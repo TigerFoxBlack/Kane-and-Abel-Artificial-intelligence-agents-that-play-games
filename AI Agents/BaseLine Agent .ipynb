{
 "cells": [
  {
   "cell_type": "markdown",
   "id": "dc8a39ad",
   "metadata": {},
   "source": [
    "# Install required libraries for solution "
   ]
  },
  {
   "cell_type": "code",
   "execution_count": null,
   "id": "d155d8b3",
   "metadata": {},
   "outputs": [],
   "source": [
    "!pip install gym==0.21.0"
   ]
  },
  {
   "cell_type": "code",
   "execution_count": null,
   "id": "56caa695",
   "metadata": {},
   "outputs": [],
   "source": [
    "!pip install gym-retro"
   ]
  },
  {
   "cell_type": "code",
   "execution_count": null,
   "id": "a1afef2d",
   "metadata": {},
   "outputs": [],
   "source": [
    "!pip install opencv-contrib-python --user"
   ]
  },
  {
   "cell_type": "markdown",
   "id": "8ee7e0dc",
   "metadata": {},
   "source": [
    "# Import all required libraries"
   ]
  },
  {
   "cell_type": "code",
   "execution_count": 1,
   "id": "e2c48b24",
   "metadata": {},
   "outputs": [],
   "source": [
    "# Import retro to play AlienSoldier using a ROM\n",
    "import retro\n",
    "# Import time to slow down game\n",
    "import time\n",
    "import tensorflow as tf\n",
    "from tensorboard.plugins.hparams import api as hp\n",
    "\n",
    "# Import environment base class for a wrapper \n",
    "from gym import Env \n",
    "# Import the space shapes for the environment\n",
    "from gym.spaces import MultiBinary, Box\n",
    "# Import numpy to calculate frame delta \n",
    "import numpy as np\n",
    "# Import opencv for grayscaling\n",
    "import cv2\n",
    "from datetime import date\n"
   ]
  },
  {
   "cell_type": "markdown",
   "id": "eda315e8",
   "metadata": {},
   "source": [
    "## Create game environment wrapper"
   ]
  },
  {
   "cell_type": "code",
   "execution_count": 2,
   "id": "86b53ede",
   "metadata": {},
   "outputs": [],
   "source": [
    "#Adapted class called StreetFighter from https://github.com/nicknochnack/StreetFighterRL/blob/main/StreetFighter-Tutorial.ipynb\n",
    "#Made changes to the __init__ function to allow the user the option to record the game play , changed it work for Alien Soldier\n",
    "#enviroment , added logic to set game state name.\n",
    "\n",
    "# Create custom environment \n",
    "class AlienSoldier(Env): \n",
    "    def __init__(self,record_results=False,record_path=''):\n",
    "        super().__init__()\n",
    "        \n",
    "        # Specify action space and observation space \n",
    "        self.observation_space = Box(low=0, high=255, shape=(84, 84, 1), dtype=np.uint8)\n",
    "        self.action_space = MultiBinary(12)\n",
    "        \n",
    "        # Startup and instance of the game \n",
    "        if record_results:\n",
    "            self.game = retro.make(game='AlienSoldier-Genesis', use_restricted_actions=retro.Actions.FILTERED, record=record_path)\n",
    "        else:\n",
    "            self.game = retro.make(game='AlienSoldier-Genesis', use_restricted_actions=retro.Actions.FILTERED)\n",
    "            \n",
    "        #set the game state name so able to access which level the game is on\n",
    "        self.statename = self.game.statename\n",
    "    \n",
    "    def reset(self):\n",
    "        # Return the first frame \n",
    "        obs = self.game.reset()\n",
    "        obs = self.preprocess(obs) \n",
    "        self.previous_frame = obs \n",
    "        \n",
    "        # reset attribute which holds the score delta\n",
    "        self.score = 0 \n",
    "        return obs\n",
    "    \n",
    "    def preprocess(self, observation): \n",
    "        # Grayscaling \n",
    "        gray = cv2.cvtColor(observation, cv2.COLOR_BGR2GRAY)\n",
    "        # Resize \n",
    "        resize = cv2.resize(gray, (84,84), interpolation=cv2.INTER_CUBIC)\n",
    "        # Add the channels value\n",
    "        channels = np.reshape(resize, (84,84,1))\n",
    "        return channels \n",
    "    \n",
    "    def step(self, action): \n",
    "        # Take a step \n",
    "        obs, reward, done, info = self.game.step(action)\n",
    "        obs = self.preprocess(obs) \n",
    "        \n",
    "        # Frame delta \n",
    "        frame_delta = obs - self.previous_frame\n",
    "        self.previous_frame = obs \n",
    "        \n",
    "        # Reshape the reward function\n",
    "        reward = info['score'] - self.score \n",
    "        self.score = info['score'] \n",
    "        \n",
    "        return frame_delta, reward, done, info\n",
    "    \n",
    "    def render(self, *args, **kwargs):\n",
    "        self.game.render()\n",
    "        \n",
    "    def close(self):\n",
    "        self.game.close()"
   ]
  },
  {
   "cell_type": "markdown",
   "id": "b6a8bb55",
   "metadata": {},
   "source": [
    "## Helper functions"
   ]
  },
  {
   "cell_type": "code",
   "execution_count": 3,
   "id": "6dec77fe",
   "metadata": {},
   "outputs": [],
   "source": [
    "# A function to retrun the level from state name in the retro enviroment. The state name contains alot string data \n",
    "# around it e.g DefaultSettings.Level1.state only interested in the level int as would like to log which level agnet ends on\n",
    "def getLevelFromStateName(state_name):\n",
    "    \n",
    "    # initializing substrings\n",
    "    start_str = \"evel\"\n",
    "    end_str = \".state\"\n",
    " \n",
    "    # getting index of substrings\n",
    "    start_index = state_name.find(start_str)\n",
    "    end_index = state_name.find(end_str)\n",
    "    \n",
    "    # sub string the level from state name as we only want level as number \n",
    "    level = state_name[start_index + len(start_str): end_index]\n",
    "\n",
    "    # convert the level to int and retrun it \n",
    "    return int(level)"
   ]
  },
  {
   "cell_type": "code",
   "execution_count": 4,
   "id": "852c0a3e",
   "metadata": {},
   "outputs": [],
   "source": [
    "# Function to start game environment and have the base line agent play the number games passed to function  \n",
    "def baselineAgentPlayGame(LOG_DIR,model_name,RECORD_PATH,RecordGamePlay,NumerOfGamesToPlay):\n",
    "    # Starts up the game environment\n",
    "    env = AlienSoldier(record_results=RecordGamePlay,record_path=RECORD_PATH)\n",
    "\n",
    "    # Setup writer which will log the scalar values from end of agent game play \n",
    "    writer = tf.summary.create_file_writer(LOG_DIR,name=model_name)\n",
    "\n",
    "    print(\"------------------------------------\")\n",
    "    # Reset game to starting state\n",
    "    obs = env.reset()\n",
    "    # Set done flag to flase this indicates if agent game is done\n",
    "    done = False\n",
    "\n",
    "    # Loop over number games to play   \n",
    "    for game in range(NumerOfGamesToPlay): \n",
    "        print(\"Game Num\" ,game + 1)\n",
    "\n",
    "        #Check if agents game has ended \n",
    "        while not done: \n",
    "            # Render the game frame \n",
    "            env.render()\n",
    "            #Set the values from step function\n",
    "            obs, reward, done, info = env.step(env.action_space.sample())    \n",
    "\n",
    "            #Check if game is done, if true then proceed to log scalar values to writer to be logged \n",
    "            if done: \n",
    "                print(\"Game over\")\n",
    "                print(\"states\",info)\n",
    "\n",
    "                # Log the values to writer \n",
    "                with writer.as_default():\n",
    "                    tf.summary.scalar(\"score\", info[\"score\"], step=game + 1)\n",
    "                    tf.summary.scalar(\"time\", info[\"time\"], step=game + 1)\n",
    "                    tf.summary.scalar(\"health\", info[\"health\"], step=game + 1)\n",
    "                    tf.summary.scalar(\"level\", getLevelFromStateName(env.statename), step=game + 1)\n",
    "                    writer.flush()\n",
    "                print(\"------------------------------------\")\n",
    "        # Reset obs so game can restart\n",
    "        obs = env.reset()\n",
    "        done = False  "
   ]
  },
  {
   "cell_type": "markdown",
   "id": "2adfb8dc",
   "metadata": {},
   "source": [
    "## Setup paths to log and record agent game play"
   ]
  },
  {
   "cell_type": "code",
   "execution_count": 5,
   "id": "6b0be581",
   "metadata": {},
   "outputs": [],
   "source": [
    "# Setup the paths to log to , path to record the game play to\n",
    "LOG_DIR = './logs_final/final_results_base_line'\n",
    "model_name = 'final_results_base_line_' + date.today().strftime('%Y-%m-%d')\n",
    "RECORD_PATH= './RecordAgentsGamePlay/final_results_base_line'"
   ]
  },
  {
   "cell_type": "markdown",
   "id": "9dec0986",
   "metadata": {},
   "source": [
    "## Start game enviroment and start agent playing game for required amount of games "
   ]
  },
  {
   "cell_type": "code",
   "execution_count": 6,
   "id": "e14211ee",
   "metadata": {},
   "outputs": [
    {
     "name": "stdout",
     "output_type": "stream",
     "text": [
      "------------------------------------\n",
      "Game Num 1\n"
     ]
    },
    {
     "name": "stderr",
     "output_type": "stream",
     "text": [
      "C:\\Users\\Tiger\\.conda\\envs\\game\\lib\\site-packages\\pyglet\\image\\codecs\\wic.py:406: UserWarning: [WinError -2147417850] Cannot change thread mode after it is set\n",
      "  warnings.warn(str(err))\n"
     ]
    },
    {
     "name": "stdout",
     "output_type": "stream",
     "text": [
      "Game over\n",
      "states {'health': 0, 'score': 500, 'time': 125}\n",
      "------------------------------------\n"
     ]
    }
   ],
   "source": [
    "baselineAgentPlayGame(LOG_DIR,model_name,RECORD_PATH,True,1)"
   ]
  },
  {
   "cell_type": "markdown",
   "id": "f8e6fd96",
   "metadata": {},
   "source": [
    "## Convert game play to mp4\n",
    "\n",
    "Update the below cmd to path where your game play is saved "
   ]
  },
  {
   "cell_type": "code",
   "execution_count": null,
   "id": "39af7bd6",
   "metadata": {},
   "outputs": [],
   "source": [
    "%run -m retro.scripts.playback_movie RecordAgentsGamePlay/final_results_base_line/AlienSoldier-Genesis-DefaultSettings.Level1-000000.bk2"
   ]
  },
  {
   "cell_type": "code",
   "execution_count": null,
   "id": "fbe18eab",
   "metadata": {},
   "outputs": [],
   "source": []
  }
 ],
 "metadata": {
  "kernelspec": {
   "display_name": "Game Retro",
   "language": "python",
   "name": "game"
  },
  "language_info": {
   "codemirror_mode": {
    "name": "ipython",
    "version": 3
   },
   "file_extension": ".py",
   "mimetype": "text/x-python",
   "name": "python",
   "nbconvert_exporter": "python",
   "pygments_lexer": "ipython3",
   "version": "3.7.13"
  }
 },
 "nbformat": 4,
 "nbformat_minor": 5
}
